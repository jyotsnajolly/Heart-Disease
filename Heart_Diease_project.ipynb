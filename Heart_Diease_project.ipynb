{
 "cells": [
  {
   "cell_type": "code",
   "execution_count": 102,
   "id": "89df1b4e",
   "metadata": {},
   "outputs": [],
   "source": [
    "import pandas as pd\n",
    "import numpy as np\n",
    "import matplotlib.pyplot as plt\n",
    "import seaborn as sns\n",
    "sns.set(style='darkgrid')\n",
    "import plotly.graph_objs as go\n",
    "import plotly.offline as py"
   ]
  },
  {
   "cell_type": "code",
   "execution_count": 103,
   "id": "0bc1480e",
   "metadata": {},
   "outputs": [
    {
     "data": {
      "text/html": [
       "<div>\n",
       "<style scoped>\n",
       "    .dataframe tbody tr th:only-of-type {\n",
       "        vertical-align: middle;\n",
       "    }\n",
       "\n",
       "    .dataframe tbody tr th {\n",
       "        vertical-align: top;\n",
       "    }\n",
       "\n",
       "    .dataframe thead th {\n",
       "        text-align: right;\n",
       "    }\n",
       "</style>\n",
       "<table border=\"1\" class=\"dataframe\">\n",
       "  <thead>\n",
       "    <tr style=\"text-align: right;\">\n",
       "      <th></th>\n",
       "      <th>age</th>\n",
       "      <th>sex</th>\n",
       "      <th>cp</th>\n",
       "      <th>trestbps</th>\n",
       "      <th>chol</th>\n",
       "      <th>fbs</th>\n",
       "      <th>restecg</th>\n",
       "      <th>thalach</th>\n",
       "      <th>exang</th>\n",
       "      <th>oldpeak</th>\n",
       "      <th>slope</th>\n",
       "      <th>ca</th>\n",
       "      <th>thal</th>\n",
       "      <th>target</th>\n",
       "    </tr>\n",
       "  </thead>\n",
       "  <tbody>\n",
       "    <tr>\n",
       "      <th>0</th>\n",
       "      <td>63</td>\n",
       "      <td>1</td>\n",
       "      <td>3</td>\n",
       "      <td>145</td>\n",
       "      <td>233</td>\n",
       "      <td>1</td>\n",
       "      <td>0</td>\n",
       "      <td>150</td>\n",
       "      <td>0</td>\n",
       "      <td>2.3</td>\n",
       "      <td>0</td>\n",
       "      <td>0</td>\n",
       "      <td>1</td>\n",
       "      <td>1</td>\n",
       "    </tr>\n",
       "    <tr>\n",
       "      <th>1</th>\n",
       "      <td>37</td>\n",
       "      <td>1</td>\n",
       "      <td>2</td>\n",
       "      <td>130</td>\n",
       "      <td>250</td>\n",
       "      <td>0</td>\n",
       "      <td>1</td>\n",
       "      <td>187</td>\n",
       "      <td>0</td>\n",
       "      <td>3.5</td>\n",
       "      <td>0</td>\n",
       "      <td>0</td>\n",
       "      <td>2</td>\n",
       "      <td>1</td>\n",
       "    </tr>\n",
       "    <tr>\n",
       "      <th>2</th>\n",
       "      <td>41</td>\n",
       "      <td>0</td>\n",
       "      <td>1</td>\n",
       "      <td>130</td>\n",
       "      <td>204</td>\n",
       "      <td>0</td>\n",
       "      <td>0</td>\n",
       "      <td>172</td>\n",
       "      <td>0</td>\n",
       "      <td>1.4</td>\n",
       "      <td>2</td>\n",
       "      <td>0</td>\n",
       "      <td>2</td>\n",
       "      <td>1</td>\n",
       "    </tr>\n",
       "    <tr>\n",
       "      <th>3</th>\n",
       "      <td>56</td>\n",
       "      <td>1</td>\n",
       "      <td>1</td>\n",
       "      <td>120</td>\n",
       "      <td>236</td>\n",
       "      <td>0</td>\n",
       "      <td>1</td>\n",
       "      <td>178</td>\n",
       "      <td>0</td>\n",
       "      <td>0.8</td>\n",
       "      <td>2</td>\n",
       "      <td>0</td>\n",
       "      <td>2</td>\n",
       "      <td>1</td>\n",
       "    </tr>\n",
       "    <tr>\n",
       "      <th>4</th>\n",
       "      <td>57</td>\n",
       "      <td>0</td>\n",
       "      <td>0</td>\n",
       "      <td>120</td>\n",
       "      <td>354</td>\n",
       "      <td>0</td>\n",
       "      <td>1</td>\n",
       "      <td>163</td>\n",
       "      <td>1</td>\n",
       "      <td>0.6</td>\n",
       "      <td>2</td>\n",
       "      <td>0</td>\n",
       "      <td>2</td>\n",
       "      <td>1</td>\n",
       "    </tr>\n",
       "  </tbody>\n",
       "</table>\n",
       "</div>"
      ],
      "text/plain": [
       "   age  sex  cp  trestbps  chol  fbs  restecg  thalach  exang  oldpeak  slope  \\\n",
       "0   63    1   3       145   233    1        0      150      0      2.3      0   \n",
       "1   37    1   2       130   250    0        1      187      0      3.5      0   \n",
       "2   41    0   1       130   204    0        0      172      0      1.4      2   \n",
       "3   56    1   1       120   236    0        1      178      0      0.8      2   \n",
       "4   57    0   0       120   354    0        1      163      1      0.6      2   \n",
       "\n",
       "   ca  thal  target  \n",
       "0   0     1       1  \n",
       "1   0     2       1  \n",
       "2   0     2       1  \n",
       "3   0     2       1  \n",
       "4   0     2       1  "
      ]
     },
     "execution_count": 103,
     "metadata": {},
     "output_type": "execute_result"
    }
   ],
   "source": [
    "df=pd.read_csv(\"heart (2).csv\")\n",
    "df.head(5)"
   ]
  },
  {
   "cell_type": "code",
   "execution_count": 104,
   "id": "72af21ec",
   "metadata": {},
   "outputs": [],
   "source": [
    "df.dropna(inplace=True)"
   ]
  },
  {
   "cell_type": "markdown",
   "id": "9c27ffb2",
   "metadata": {},
   "source": [
    "# Rename columns"
   ]
  },
  {
   "cell_type": "code",
   "execution_count": 105,
   "id": "57e55559",
   "metadata": {},
   "outputs": [],
   "source": [
    "df.columns=['Age','Sex','Chest_pain_type','Resting_bp','Cholesterol','Fasting_bp','Resting_ecg','Max_heart_rate','Exercise_induced_angina',\n",
    "           'ST_depression','ST_slope','Num_major_vessels','Thallium_test','Condition']"
   ]
  },
  {
   "cell_type": "code",
   "execution_count": 106,
   "id": "a01696a5",
   "metadata": {},
   "outputs": [
    {
     "data": {
      "text/html": [
       "<div>\n",
       "<style scoped>\n",
       "    .dataframe tbody tr th:only-of-type {\n",
       "        vertical-align: middle;\n",
       "    }\n",
       "\n",
       "    .dataframe tbody tr th {\n",
       "        vertical-align: top;\n",
       "    }\n",
       "\n",
       "    .dataframe thead th {\n",
       "        text-align: right;\n",
       "    }\n",
       "</style>\n",
       "<table border=\"1\" class=\"dataframe\">\n",
       "  <thead>\n",
       "    <tr style=\"text-align: right;\">\n",
       "      <th></th>\n",
       "      <th>Age</th>\n",
       "      <th>Sex</th>\n",
       "      <th>Chest_pain_type</th>\n",
       "      <th>Resting_bp</th>\n",
       "      <th>Cholesterol</th>\n",
       "      <th>Fasting_bp</th>\n",
       "      <th>Resting_ecg</th>\n",
       "      <th>Max_heart_rate</th>\n",
       "      <th>Exercise_induced_angina</th>\n",
       "      <th>ST_depression</th>\n",
       "      <th>ST_slope</th>\n",
       "      <th>Num_major_vessels</th>\n",
       "      <th>Thallium_test</th>\n",
       "      <th>Condition</th>\n",
       "    </tr>\n",
       "  </thead>\n",
       "  <tbody>\n",
       "    <tr>\n",
       "      <th>0</th>\n",
       "      <td>63</td>\n",
       "      <td>1</td>\n",
       "      <td>3</td>\n",
       "      <td>145</td>\n",
       "      <td>233</td>\n",
       "      <td>1</td>\n",
       "      <td>0</td>\n",
       "      <td>150</td>\n",
       "      <td>0</td>\n",
       "      <td>2.3</td>\n",
       "      <td>0</td>\n",
       "      <td>0</td>\n",
       "      <td>1</td>\n",
       "      <td>1</td>\n",
       "    </tr>\n",
       "    <tr>\n",
       "      <th>1</th>\n",
       "      <td>37</td>\n",
       "      <td>1</td>\n",
       "      <td>2</td>\n",
       "      <td>130</td>\n",
       "      <td>250</td>\n",
       "      <td>0</td>\n",
       "      <td>1</td>\n",
       "      <td>187</td>\n",
       "      <td>0</td>\n",
       "      <td>3.5</td>\n",
       "      <td>0</td>\n",
       "      <td>0</td>\n",
       "      <td>2</td>\n",
       "      <td>1</td>\n",
       "    </tr>\n",
       "    <tr>\n",
       "      <th>2</th>\n",
       "      <td>41</td>\n",
       "      <td>0</td>\n",
       "      <td>1</td>\n",
       "      <td>130</td>\n",
       "      <td>204</td>\n",
       "      <td>0</td>\n",
       "      <td>0</td>\n",
       "      <td>172</td>\n",
       "      <td>0</td>\n",
       "      <td>1.4</td>\n",
       "      <td>2</td>\n",
       "      <td>0</td>\n",
       "      <td>2</td>\n",
       "      <td>1</td>\n",
       "    </tr>\n",
       "    <tr>\n",
       "      <th>3</th>\n",
       "      <td>56</td>\n",
       "      <td>1</td>\n",
       "      <td>1</td>\n",
       "      <td>120</td>\n",
       "      <td>236</td>\n",
       "      <td>0</td>\n",
       "      <td>1</td>\n",
       "      <td>178</td>\n",
       "      <td>0</td>\n",
       "      <td>0.8</td>\n",
       "      <td>2</td>\n",
       "      <td>0</td>\n",
       "      <td>2</td>\n",
       "      <td>1</td>\n",
       "    </tr>\n",
       "    <tr>\n",
       "      <th>4</th>\n",
       "      <td>57</td>\n",
       "      <td>0</td>\n",
       "      <td>0</td>\n",
       "      <td>120</td>\n",
       "      <td>354</td>\n",
       "      <td>0</td>\n",
       "      <td>1</td>\n",
       "      <td>163</td>\n",
       "      <td>1</td>\n",
       "      <td>0.6</td>\n",
       "      <td>2</td>\n",
       "      <td>0</td>\n",
       "      <td>2</td>\n",
       "      <td>1</td>\n",
       "    </tr>\n",
       "  </tbody>\n",
       "</table>\n",
       "</div>"
      ],
      "text/plain": [
       "   Age  Sex  Chest_pain_type  Resting_bp  Cholesterol  Fasting_bp  \\\n",
       "0   63    1                3         145          233           1   \n",
       "1   37    1                2         130          250           0   \n",
       "2   41    0                1         130          204           0   \n",
       "3   56    1                1         120          236           0   \n",
       "4   57    0                0         120          354           0   \n",
       "\n",
       "   Resting_ecg  Max_heart_rate  Exercise_induced_angina  ST_depression  \\\n",
       "0            0             150                        0            2.3   \n",
       "1            1             187                        0            3.5   \n",
       "2            0             172                        0            1.4   \n",
       "3            1             178                        0            0.8   \n",
       "4            1             163                        1            0.6   \n",
       "\n",
       "   ST_slope  Num_major_vessels  Thallium_test  Condition  \n",
       "0         0                  0              1          1  \n",
       "1         0                  0              2          1  \n",
       "2         2                  0              2          1  \n",
       "3         2                  0              2          1  \n",
       "4         2                  0              2          1  "
      ]
     },
     "execution_count": 106,
     "metadata": {},
     "output_type": "execute_result"
    }
   ],
   "source": [
    "df.head(5)"
   ]
  },
  {
   "cell_type": "code",
   "execution_count": 107,
   "id": "0c6b4bb2",
   "metadata": {},
   "outputs": [
    {
     "name": "stdout",
     "output_type": "stream",
     "text": [
      "<class 'pandas.core.frame.DataFrame'>\n",
      "RangeIndex: 303 entries, 0 to 302\n",
      "Data columns (total 14 columns):\n",
      " #   Column                   Non-Null Count  Dtype  \n",
      "---  ------                   --------------  -----  \n",
      " 0   Age                      303 non-null    int64  \n",
      " 1   Sex                      303 non-null    int64  \n",
      " 2   Chest_pain_type          303 non-null    int64  \n",
      " 3   Resting_bp               303 non-null    int64  \n",
      " 4   Cholesterol              303 non-null    int64  \n",
      " 5   Fasting_bp               303 non-null    int64  \n",
      " 6   Resting_ecg              303 non-null    int64  \n",
      " 7   Max_heart_rate           303 non-null    int64  \n",
      " 8   Exercise_induced_angina  303 non-null    int64  \n",
      " 9   ST_depression            303 non-null    float64\n",
      " 10  ST_slope                 303 non-null    int64  \n",
      " 11  Num_major_vessels        303 non-null    int64  \n",
      " 12  Thallium_test            303 non-null    int64  \n",
      " 13  Condition                303 non-null    int64  \n",
      "dtypes: float64(1), int64(13)\n",
      "memory usage: 33.3 KB\n"
     ]
    }
   ],
   "source": [
    "df.info()"
   ]
  },
  {
   "cell_type": "code",
   "execution_count": 108,
   "id": "64cb335a",
   "metadata": {},
   "outputs": [
    {
     "data": {
      "text/plain": [
       "14"
      ]
     },
     "execution_count": 108,
     "metadata": {},
     "output_type": "execute_result"
    }
   ],
   "source": [
    "df.shape[1]"
   ]
  },
  {
   "cell_type": "code",
   "execution_count": 116,
   "id": "646db6f0",
   "metadata": {},
   "outputs": [
    {
     "data": {
      "text/plain": [
       "Condition\n",
       "1            165\n",
       "0            138\n",
       "dtype: int64"
      ]
     },
     "execution_count": 116,
     "metadata": {},
     "output_type": "execute_result"
    }
   ],
   "source": [
    "results=df[['Condition']].value_counts()\n",
    "results"
   ]
  },
  {
   "cell_type": "code",
   "execution_count": 115,
   "id": "39f698b3",
   "metadata": {},
   "outputs": [
    {
     "data": {
      "text/plain": [
       "1    207\n",
       "0     96\n",
       "Name: Sex, dtype: int64"
      ]
     },
     "execution_count": 115,
     "metadata": {},
     "output_type": "execute_result"
    }
   ],
   "source": [
    "res=df['Sex'].value_counts()\n",
    "res"
   ]
  },
  {
   "cell_type": "markdown",
   "id": "dd2c9132",
   "metadata": {},
   "source": [
    "# Exploratory Data analysis"
   ]
  },
  {
   "cell_type": "code",
   "execution_count": 112,
   "id": "fc16966f",
   "metadata": {},
   "outputs": [
    {
     "data": {
      "text/plain": [
       "([<matplotlib.patches.Wedge at 0x1fdfc24cc40>,\n",
       "  <matplotlib.patches.Wedge at 0x1fdfc24c3d0>],\n",
       " [Text(0.15346682740070733, 1.0892419074234896, 'Benign'),\n",
       "  Text(-0.15346672541851888, -1.0892419217920861, 'Malignant')],\n",
       " [Text(0.08370917858220399, 0.5941319495037215, '46%'),\n",
       "  Text(-0.08370912295555576, -0.5941319573411379, '54%')])"
      ]
     },
     "execution_count": 112,
     "metadata": {},
     "output_type": "execute_result"
    },
    {
     "data": {
      "image/png": "[encoded data removed]",
      "text/plain": [
       "<Figure size 640x480 with 1 Axes>"
      ]
     },
     "metadata": {},
     "output_type": "display_data"
    }
   ],
   "source": [
    "results=df['Condition'].value_counts()\n",
    "values=[results[0],results[1]]\n",
    "labels=['Benign','Malignant']\n",
    "colors = ['Yellow', 'Red']\n",
    "fig,ax=plt.subplots()\n",
    "ax.pie(values,labels=labels, colors=colors,autopct='%.0f%%')"
   ]
  },
  {
   "cell_type": "code",
   "execution_count": null,
   "id": "ede776ec",
   "metadata": {},
   "outputs": [],
   "source": [
    "results=df['Sex'].value_counts()\n",
    "values=[results[0],results[1]]\n",
    "labels=['Female','Male']\n",
    "colors = ['Red', 'RoyalBlue']\n",
    "fig,ax=plt.subplots()\n",
    "ax.pie(values,labels=labels, colors=colors,autopct='%.0f%%')"
   ]
  },
  {
   "cell_type": "code",
   "execution_count": null,
   "id": "14edae59",
   "metadata": {},
   "outputs": [],
   "source": [
    "def condition_proportion_sex(data):\n",
    "     # Bivariate analysis: Sex vs. Condition \n",
    "    data['Sex'].groupby(data['Condition']).value_counts(normalize=True).rename('proportion').reset_index().pipe((sns.barplot,'data'),x='Sex',y='proportion',hue='Condition',palette='Dark2')\n",
    "    plt.title('Proportion for Condition of Sex')\n",
    "    plt.xlabel('Sex(0=Female,1=Male)')\n",
    "\n",
    "    female_malignant=data[data['Sex']==0]['Condition'].sum()/data[data['Condition']==1]['Condition'].count()\n",
    "    male_malignant=data[data['Sex']==1]['Condition'].sum()/data[data['Condition']==1]['Condition'].count()\n",
    "    \n",
    "    print('The proportion of Malignant for Sex:')\n",
    "    print(f'Female: {female_malignant:.2%}')\n",
    "    print(f'Male: {male_malignant:.2%}')\n",
    "condition_proportion_sex(df)"
   ]
  },
  {
   "cell_type": "code",
   "execution_count": null,
   "id": "b30dcaea",
   "metadata": {},
   "outputs": [],
   "source": [
    "def condition_proportion_sex(data):\n",
    "    data['Sex'].groupby(data['Condition']).value_counts(normalize=True).rename('proportion').reset_index().pipe((sns.barplot,'data'),x='Sex',y='proportion',hue='Condition');\n",
    "    plt.xlabel('Sex(0=Female,1=Male)')\n",
    "    plt.show()\n",
    "    female_malignant=data[data['Sex]'==0]]['Condition'].sum()\n",
    "\n",
    "condition_proportion_sex(df)"
   ]
  },
  {
   "cell_type": "code",
   "execution_count": 110,
   "id": "666f045d",
   "metadata": {},
   "outputs": [
    {
     "data": {
      "text/plain": [
       "Sex  Condition\n",
       "0    0             24\n",
       "     1             72\n",
       "1    0            114\n",
       "     1             93\n",
       "Name: Condition, dtype: int64"
      ]
     },
     "execution_count": 110,
     "metadata": {},
     "output_type": "execute_result"
    }
   ],
   "source": [
    "df.groupby([\"Sex\",\"Condition\"])[\"Condition\"].count()"
   ]
  },
  {
   "cell_type": "code",
   "execution_count": 111,
   "id": "c9f71c2f",
   "metadata": {},
   "outputs": [
    {
     "data": {
      "text/plain": [
       "<AxesSubplot:xlabel='Sex,Condition'>"
      ]
     },
     "execution_count": 111,
     "metadata": {},
     "output_type": "execute_result"
    },
    {
     "data": {
      "image/png": "[encoded data removed]",
      "text/plain": [
       "<Figure size 640x480 with 1 Axes>"
      ]
     },
     "metadata": {},
     "output_type": "display_data"
    }
   ],
   "source": [
    "df.groupby([\"Sex\",\"Condition\"])[\"Condition\"].count().plot.bar()"
   ]
  },
  {
   "cell_type": "code",
   "execution_count": 128,
   "id": "a689111a",
   "metadata": {},
   "outputs": [
    {
     "data": {
      "text/plain": [
       "Sex\n",
       "False    93\n",
       "True     72\n",
       "Name: Condition, dtype: int64"
      ]
     },
     "execution_count": 128,
     "metadata": {},
     "output_type": "execute_result"
    }
   ],
   "source": [
    "rt=df.groupby([df['Sex']==0])['Condition'].sum()\n",
    "rt"
   ]
  },
  {
   "cell_type": "code",
   "execution_count": 126,
   "id": "a569bd98",
   "metadata": {},
   "outputs": [
    {
     "data": {
      "text/plain": [
       "165"
      ]
     },
     "execution_count": 126,
     "metadata": {},
     "output_type": "execute_result"
    }
   ],
   "source": [
    "df[df['Condition']==1]['Condition'].count()"
   ]
  },
  {
   "cell_type": "code",
   "execution_count": 121,
   "id": "2e68828f",
   "metadata": {},
   "outputs": [
    {
     "data": {
      "text/plain": [
       "0.43636363636363634"
      ]
     },
     "execution_count": 121,
     "metadata": {},
     "output_type": "execute_result"
    }
   ],
   "source": [
    "gh=72/165\n",
    "gh"
   ]
  },
  {
   "cell_type": "code",
   "execution_count": 124,
   "id": "bc791708",
   "metadata": {},
   "outputs": [
    {
     "data": {
      "text/plain": [
       "0.5636363636363636"
      ]
     },
     "execution_count": 124,
     "metadata": {},
     "output_type": "execute_result"
    }
   ],
   "source": [
    "jk=df[df['Sex']==1]['Condition'].sum()/df[df['Condition']==1]['Condition'].count()\n",
    "jk"
   ]
  },
  {
   "cell_type": "code",
   "execution_count": 129,
   "id": "5ed81d80",
   "metadata": {},
   "outputs": [
    {
     "data": {
      "text/plain": [
       "Index(['Age', 'Sex', 'Chest_pain_type', 'Resting_bp', 'Cholesterol',\n",
       "       'Fasting_bp', 'Resting_ecg', 'Max_heart_rate',\n",
       "       'Exercise_induced_angina', 'ST_depression', 'ST_slope',\n",
       "       'Num_major_vessels', 'Thallium_test', 'Condition'],\n",
       "      dtype='object')"
      ]
     },
     "execution_count": 129,
     "metadata": {},
     "output_type": "execute_result"
    }
   ],
   "source": [
    "df.columns"
   ]
  },
  {
   "cell_type": "code",
   "execution_count": 130,
   "id": "5595d815",
   "metadata": {},
   "outputs": [
    {
     "data": {
      "text/plain": [
       "Sex  Fasting_bp\n",
       "0    0              84\n",
       "     1              12\n",
       "1    0             174\n",
       "     1              33\n",
       "Name: Fasting_bp, dtype: int64"
      ]
     },
     "execution_count": 130,
     "metadata": {},
     "output_type": "execute_result"
    }
   ],
   "source": [
    "df.groupby([\"Sex\",\"Fasting_bp\"])[\"Fasting_bp\"].count()"
   ]
  },
  {
   "cell_type": "code",
   "execution_count": 131,
   "id": "15b7abe3",
   "metadata": {},
   "outputs": [
    {
     "data": {
      "text/plain": [
       "<AxesSubplot:xlabel='Sex,Fasting_bp'>"
      ]
     },
     "execution_count": 131,
     "metadata": {},
     "output_type": "execute_result"
    },
    {
     "data": {
      "image/png": "[encoded data removed]",
      "text/plain": [
       "<Figure size 640x480 with 1 Axes>"
      ]
     },
     "metadata": {},
     "output_type": "display_data"
    }
   ],
   "source": [
    "df.groupby([\"Sex\",\"Fasting_bp\"])[\"Fasting_bp\"].count().plot.bar()"
   ]
  },
  {
   "cell_type": "code",
   "execution_count": 132,
   "id": "9e1cd8c8",
   "metadata": {},
   "outputs": [
    {
     "data": {
      "text/plain": [
       "Fasting_bp\n",
       "0             258\n",
       "1              45\n",
       "dtype: int64"
      ]
     },
     "execution_count": 132,
     "metadata": {},
     "output_type": "execute_result"
    }
   ],
   "source": [
    "df[['Fasting_bp']].value_counts()"
   ]
  },
  {
   "cell_type": "code",
   "execution_count": 135,
   "id": "f5274fd2",
   "metadata": {},
   "outputs": [
    {
     "data": {
      "text/plain": [
       "Condition  Fasting_bp\n",
       "0          0             116\n",
       "           1              22\n",
       "1          0             142\n",
       "           1              23\n",
       "Name: Fasting_bp, dtype: int64"
      ]
     },
     "execution_count": 135,
     "metadata": {},
     "output_type": "execute_result"
    }
   ],
   "source": [
    "df.groupby([\"Condition\",\"Fasting_bp\"])[\"Fasting_bp\"].count()"
   ]
  },
  {
   "cell_type": "code",
   "execution_count": 136,
   "id": "ab05f4d2",
   "metadata": {},
   "outputs": [
    {
     "data": {
      "text/plain": [
       "<AxesSubplot:xlabel='Sex,Fasting_bp'>"
      ]
     },
     "execution_count": 136,
     "metadata": {},
     "output_type": "execute_result"
    },
    {
     "data": {
      "image/png": "[encoded data removed]",
      "text/plain": [
       "<Figure size 640x480 with 1 Axes>"
      ]
     },
     "metadata": {},
     "output_type": "display_data"
    }
   ],
   "source": [
    "df.groupby([\"Sex\",\"Fasting_bp\"])[\"Fasting_bp\"].count().plot.bar()"
   ]
  },
  {
   "cell_type": "code",
   "execution_count": 137,
   "id": "8f1d3021",
   "metadata": {},
   "outputs": [
    {
     "data": {
      "text/plain": [
       "Sex  Condition  Fasting_bp\n",
       "0    0          0             18\n",
       "                1              6\n",
       "     1          0             66\n",
       "                1              6\n",
       "1    0          0             98\n",
       "                1             16\n",
       "     1          0             76\n",
       "                1             17\n",
       "Name: Fasting_bp, dtype: int64"
      ]
     },
     "execution_count": 137,
     "metadata": {},
     "output_type": "execute_result"
    }
   ],
   "source": [
    "df.groupby([\"Sex\",\"Condition\",\"Fasting_bp\"])[\"Fasting_bp\"].count()"
   ]
  },
  {
   "cell_type": "code",
   "execution_count": 138,
   "id": "ad7f15f2",
   "metadata": {},
   "outputs": [
    {
     "data": {
      "text/plain": [
       "<AxesSubplot:xlabel='Sex,Condition,Fasting_bp'>"
      ]
     },
     "execution_count": 138,
     "metadata": {},
     "output_type": "execute_result"
    },
    {
     "data": {
      "image/png": "[encoded data removed]",
      "text/plain": [
       "<Figure size 640x480 with 1 Axes>"
      ]
     },
     "metadata": {},
     "output_type": "display_data"
    }
   ],
   "source": [
    "df.groupby([\"Sex\",\"Condition\",\"Fasting_bp\"])[\"Fasting_bp\"].count().plot.bar()"
   ]
  },
  {
   "cell_type": "code",
   "execution_count": 146,
   "id": "7f8cc6d5",
   "metadata": {},
   "outputs": [
    {
     "data": {
      "text/plain": [
       "<matplotlib.legend.Legend at 0x1fd87275760>"
      ]
     },
     "execution_count": 146,
     "metadata": {},
     "output_type": "execute_result"
    },
    {
     "data": {
      "image/png": "[encoded data removed]",
      "text/plain": [
       "<Figure size 1000x800 with 1 Axes>"
      ]
     },
     "metadata": {},
     "output_type": "display_data"
    }
   ],
   "source": [
    "fig,ax=plt.subplots(figsize=(10,8))\n",
    "ax.hist(df['Resting_bp'].to_numpy())\n",
    "ax.set_title('Resting Blood Pressure (mmHg) Distribution', fontsize=15)\n",
    "plt.axvline(x=130, color='r',linestyle='--',label='Hypertension: over 130 mmHg')\n",
    "plt.legend()"
   ]
  },
  {
   "cell_type": "code",
   "execution_count": 142,
   "id": "3da02b8a",
   "metadata": {},
   "outputs": [
    {
     "name": "stderr",
     "output_type": "stream",
     "text": [
      "C:\\Users\\alokd\\anaconda3\\lib\\site-packages\\seaborn\\_decorators.py:36: FutureWarning:\n",
      "\n",
      "Pass the following variable as a keyword arg: x. From version 0.12, the only valid positional argument will be `data`, and passing other arguments without an explicit keyword will result in an error or misinterpretation.\n",
      "\n"
     ]
    },
    {
     "data": {
      "text/plain": [
       "<AxesSubplot:xlabel='Resting_bp'>"
      ]
     },
     "execution_count": 142,
     "metadata": {},
     "output_type": "execute_result"
    },
    {
     "data": {
      "image/png": "[encoded data removed]",
      "text/plain": [
       "<Figure size 640x480 with 1 Axes>"
      ]
     },
     "metadata": {},
     "output_type": "display_data"
    }
   ],
   "source": [
    "sns.boxplot(df['Resting_bp'])"
   ]
  },
  {
   "cell_type": "code",
   "execution_count": 156,
   "id": "d0e84455",
   "metadata": {},
   "outputs": [
    {
     "data": {
      "text/plain": [
       "<matplotlib.legend.Legend at 0x1fd8776b850>"
      ]
     },
     "execution_count": 156,
     "metadata": {},
     "output_type": "execute_result"
    },
    {
     "data": {
      "image/png": "[encoded data removed]",
      "text/plain": [
       "<Figure size 1000x800 with 1 Axes>"
      ]
     },
     "metadata": {},
     "output_type": "display_data"
    }
   ],
   "source": [
    "fig,ax=plt.subplots(figsize=(10,8))\n",
    "ax.hist(df['Cholesterol'].to_numpy())\n",
    "ax.set_title('Serum Cholesterol (mg/dl) Distribution', fontsize=15)\n",
    "plt.axvline(x=200, color='r',linestyle='--',label='High Cholesterol: over 200 mg/dl')\n",
    "plt.legend()"
   ]
  },
  {
   "cell_type": "code",
   "execution_count": 157,
   "id": "6a6b2e01",
   "metadata": {},
   "outputs": [
    {
     "name": "stderr",
     "output_type": "stream",
     "text": [
      "No artists with labels found to put in legend.  Note that artists whose label start with an underscore are ignored when legend() is called with no argument.\n"
     ]
    },
    {
     "data": {
      "text/plain": [
       "<matplotlib.legend.Legend at 0x1fd8821e550>"
      ]
     },
     "execution_count": 157,
     "metadata": {},
     "output_type": "execute_result"
    },
    {
     "data": {
      "image/png": "[encoded data removed]",
      "text/plain": [
       "<Figure size 1000x800 with 1 Axes>"
      ]
     },
     "metadata": {},
     "output_type": "display_data"
    }
   ],
   "source": [
    "fig,ax=plt.subplots(figsize=(10,8))\n",
    "ax.hist(df['Max_heart_rate'].to_numpy())\n",
    "ax.set_title('Max Heart Rate Achieved (bpm) Distribution', fontsize=15)\n",
    "plt.legend()"
   ]
  },
  {
   "cell_type": "code",
   "execution_count": 163,
   "id": "c7afd300",
   "metadata": {},
   "outputs": [
    {
     "data": {
      "text/html": [
       "<div>\n",
       "<style scoped>\n",
       "    .dataframe tbody tr th:only-of-type {\n",
       "        vertical-align: middle;\n",
       "    }\n",
       "\n",
       "    .dataframe tbody tr th {\n",
       "        vertical-align: top;\n",
       "    }\n",
       "\n",
       "    .dataframe thead th {\n",
       "        text-align: right;\n",
       "    }\n",
       "</style>\n",
       "<table border=\"1\" class=\"dataframe\">\n",
       "  <thead>\n",
       "    <tr style=\"text-align: right;\">\n",
       "      <th></th>\n",
       "      <th>Age</th>\n",
       "      <th>Sex</th>\n",
       "      <th>Chest_pain_type</th>\n",
       "      <th>Resting_bp</th>\n",
       "      <th>Cholesterol</th>\n",
       "      <th>Fasting_bp</th>\n",
       "      <th>Resting_ecg</th>\n",
       "      <th>Max_heart_rate</th>\n",
       "      <th>Exercise_induced_angina</th>\n",
       "      <th>ST_depression</th>\n",
       "      <th>ST_slope</th>\n",
       "      <th>Num_major_vessels</th>\n",
       "      <th>Thallium_test</th>\n",
       "      <th>Condition</th>\n",
       "    </tr>\n",
       "  </thead>\n",
       "  <tbody>\n",
       "    <tr>\n",
       "      <th>0</th>\n",
       "      <td>63</td>\n",
       "      <td>1</td>\n",
       "      <td>3</td>\n",
       "      <td>145</td>\n",
       "      <td>233</td>\n",
       "      <td>1</td>\n",
       "      <td>0</td>\n",
       "      <td>150</td>\n",
       "      <td>0</td>\n",
       "      <td>2.3</td>\n",
       "      <td>0</td>\n",
       "      <td>0</td>\n",
       "      <td>1</td>\n",
       "      <td>1</td>\n",
       "    </tr>\n",
       "    <tr>\n",
       "      <th>1</th>\n",
       "      <td>37</td>\n",
       "      <td>1</td>\n",
       "      <td>2</td>\n",
       "      <td>130</td>\n",
       "      <td>250</td>\n",
       "      <td>0</td>\n",
       "      <td>1</td>\n",
       "      <td>187</td>\n",
       "      <td>0</td>\n",
       "      <td>3.5</td>\n",
       "      <td>0</td>\n",
       "      <td>0</td>\n",
       "      <td>2</td>\n",
       "      <td>1</td>\n",
       "    </tr>\n",
       "    <tr>\n",
       "      <th>2</th>\n",
       "      <td>41</td>\n",
       "      <td>0</td>\n",
       "      <td>1</td>\n",
       "      <td>130</td>\n",
       "      <td>204</td>\n",
       "      <td>0</td>\n",
       "      <td>0</td>\n",
       "      <td>172</td>\n",
       "      <td>0</td>\n",
       "      <td>1.4</td>\n",
       "      <td>2</td>\n",
       "      <td>0</td>\n",
       "      <td>2</td>\n",
       "      <td>1</td>\n",
       "    </tr>\n",
       "    <tr>\n",
       "      <th>3</th>\n",
       "      <td>56</td>\n",
       "      <td>1</td>\n",
       "      <td>1</td>\n",
       "      <td>120</td>\n",
       "      <td>236</td>\n",
       "      <td>0</td>\n",
       "      <td>1</td>\n",
       "      <td>178</td>\n",
       "      <td>0</td>\n",
       "      <td>0.8</td>\n",
       "      <td>2</td>\n",
       "      <td>0</td>\n",
       "      <td>2</td>\n",
       "      <td>1</td>\n",
       "    </tr>\n",
       "    <tr>\n",
       "      <th>4</th>\n",
       "      <td>57</td>\n",
       "      <td>0</td>\n",
       "      <td>0</td>\n",
       "      <td>120</td>\n",
       "      <td>354</td>\n",
       "      <td>0</td>\n",
       "      <td>1</td>\n",
       "      <td>163</td>\n",
       "      <td>1</td>\n",
       "      <td>0.6</td>\n",
       "      <td>2</td>\n",
       "      <td>0</td>\n",
       "      <td>2</td>\n",
       "      <td>1</td>\n",
       "    </tr>\n",
       "  </tbody>\n",
       "</table>\n",
       "</div>"
      ],
      "text/plain": [
       "   Age  Sex  Chest_pain_type  Resting_bp  Cholesterol  Fasting_bp  \\\n",
       "0   63    1                3         145          233           1   \n",
       "1   37    1                2         130          250           0   \n",
       "2   41    0                1         130          204           0   \n",
       "3   56    1                1         120          236           0   \n",
       "4   57    0                0         120          354           0   \n",
       "\n",
       "   Resting_ecg  Max_heart_rate  Exercise_induced_angina  ST_depression  \\\n",
       "0            0             150                        0            2.3   \n",
       "1            1             187                        0            3.5   \n",
       "2            0             172                        0            1.4   \n",
       "3            1             178                        0            0.8   \n",
       "4            1             163                        1            0.6   \n",
       "\n",
       "   ST_slope  Num_major_vessels  Thallium_test  Condition  \n",
       "0         0                  0              1          1  \n",
       "1         0                  0              2          1  \n",
       "2         2                  0              2          1  \n",
       "3         2                  0              2          1  \n",
       "4         2                  0              2          1  "
      ]
     },
     "execution_count": 163,
     "metadata": {},
     "output_type": "execute_result"
    }
   ],
   "source": [
    "df.head(5)"
   ]
  },
  {
   "cell_type": "code",
   "execution_count": 166,
   "id": "39728a72",
   "metadata": {},
   "outputs": [
    {
     "data": {
      "text/plain": [
       "Index(['Age', 'Sex', 'Chest_pain_type', 'Resting_bp', 'Cholesterol',\n",
       "       'Fasting_bp', 'Resting_ecg', 'Max_heart_rate',\n",
       "       'Exercise_induced_angina', 'ST_depression', 'ST_slope',\n",
       "       'Num_major_vessels', 'Thallium_test', 'Condition'],\n",
       "      dtype='object')"
      ]
     },
     "execution_count": 166,
     "metadata": {},
     "output_type": "execute_result"
    }
   ],
   "source": [
    "df.columns"
   ]
  },
  {
   "cell_type": "code",
   "execution_count": 167,
   "id": "94af2260",
   "metadata": {},
   "outputs": [],
   "source": [
    "import re\n",
    "def clean_year(str_):\n",
    "    str_=str_.lower()\n",
    "    str_=re.sub(\"[^A-Za-z0-9]+\", \" \", str_)\n",
    "    str_=str_.strip()\n",
    "\n",
    "    return int(str_.split(\" \")[0])"
   ]
  },
  {
   "cell_type": "code",
   "execution_count": 168,
   "id": "7f078eb3",
   "metadata": {},
   "outputs": [],
   "source": [
    "cat_columns=['Sex','Chest_pain_type','Fasting_bp','Resting_ecg','Exercise_induced_angina','ST_slope','Num_major_vessels', 'Thallium_test']\n",
    "num_columns=['Age','Resting_bp', 'Cholesterol', 'Max_heart_rate','ST_depression']"
   ]
  },
  {
   "cell_type": "markdown",
   "id": "dadd2446",
   "metadata": {},
   "source": [
    "# FEature Engineering¶\n",
    "##Anova test=Input is numerical and output is categorical \n",
    "##Chi-Square Input is categorical and output is categorical"
   ]
  },
  {
   "cell_type": "code",
   "execution_count": 169,
   "id": "d28cb440",
   "metadata": {},
   "outputs": [],
   "source": [
    "from sklearn.feature_selection import f_classif, SelectKBest"
   ]
  },
  {
   "cell_type": "code",
   "execution_count": 170,
   "id": "6e275d55",
   "metadata": {},
   "outputs": [],
   "source": [
    "X= df[num_columns].to_numpy()\n",
    "Y = df['Condition'].to_numpy()"
   ]
  },
  {
   "cell_type": "code",
   "execution_count": 173,
   "id": "63052551",
   "metadata": {},
   "outputs": [],
   "source": [
    "fs = SelectKBest(k=3, score_func = f_classif)\n",
    "X_selected = fs.fit_transform(X,Y)"
   ]
  },
  {
   "cell_type": "code",
   "execution_count": 174,
   "id": "6280f70a",
   "metadata": {},
   "outputs": [
    {
     "data": {
      "text/plain": [
       "array([0, 3, 4], dtype=int64)"
      ]
     },
     "execution_count": 174,
     "metadata": {},
     "output_type": "execute_result"
    }
   ],
   "source": [
    "fs.get_support(True)"
   ]
  },
  {
   "cell_type": "markdown",
   "id": "4461ca71",
   "metadata": {},
   "source": [
    "##Chi_square"
   ]
  },
  {
   "cell_type": "code",
   "execution_count": 176,
   "id": "5421d7ac",
   "metadata": {},
   "outputs": [],
   "source": [
    "X= df[cat_columns].to_numpy()\n",
    "Y = df['Condition'].to_numpy()"
   ]
  },
  {
   "cell_type": "code",
   "execution_count": 177,
   "id": "06be9025",
   "metadata": {},
   "outputs": [],
   "source": [
    "from sklearn.feature_selection import chi2"
   ]
  },
  {
   "cell_type": "code",
   "execution_count": 178,
   "id": "2d449722",
   "metadata": {},
   "outputs": [],
   "source": [
    "fs = SelectKBest(k=6, score_func = chi2)\n",
    "X_selected = fs.fit_transform(X,Y)"
   ]
  },
  {
   "cell_type": "code",
   "execution_count": 179,
   "id": "57b319b7",
   "metadata": {},
   "outputs": [
    {
     "data": {
      "text/plain": [
       "array([0, 1, 4, 5, 6, 7], dtype=int64)"
      ]
     },
     "execution_count": 179,
     "metadata": {},
     "output_type": "execute_result"
    }
   ],
   "source": [
    "fs.get_support(True)"
   ]
  },
  {
   "cell_type": "code",
   "execution_count": 180,
   "id": "6b09f338",
   "metadata": {},
   "outputs": [],
   "source": [
    "cat_column_selected=['Sex','Chest_pain_type','Exercise_induced_angina','ST_slope','Num_major_vessels', 'Thallium_test']\n",
    "num_column_selected=['Age','Max_heart_rate','ST_depression']"
   ]
  },
  {
   "cell_type": "code",
   "execution_count": 182,
   "id": "3ac4ac6a",
   "metadata": {},
   "outputs": [],
   "source": [
    "total_feature=cat_column_selected + num_column_selected"
   ]
  },
  {
   "cell_type": "code",
   "execution_count": 183,
   "id": "a1827a5c",
   "metadata": {},
   "outputs": [],
   "source": [
    "X=df[total_feature].to_numpy()\n",
    "Y=df['Condition'].to_numpy()"
   ]
  },
  {
   "cell_type": "markdown",
   "id": "72593419",
   "metadata": {},
   "source": [
    "# Feature Scaling"
   ]
  },
  {
   "cell_type": "code",
   "execution_count": 184,
   "id": "dbcb2daf",
   "metadata": {},
   "outputs": [],
   "source": [
    "from sklearn.preprocessing import StandardScaler"
   ]
  },
  {
   "cell_type": "code",
   "execution_count": 185,
   "id": "54102a41",
   "metadata": {},
   "outputs": [],
   "source": [
    "scale=StandardScaler()\n",
    "X_scaled=scale.fit_transform(X)"
   ]
  },
  {
   "cell_type": "markdown",
   "id": "ac780e5b",
   "metadata": {},
   "source": [
    "# Spliting the data"
   ]
  },
  {
   "cell_type": "code",
   "execution_count": 186,
   "id": "4fc8c339",
   "metadata": {},
   "outputs": [],
   "source": [
    "from sklearn.model_selection import train_test_split\n",
    "X_train,X_test,y_train,y_test = train_test_split(X_scaled,Y, test_size=0.2,shuffle =True)"
   ]
  },
  {
   "cell_type": "markdown",
   "id": "eee0a9b3",
   "metadata": {},
   "source": [
    "# Training Decesion Tree Classifier"
   ]
  },
  {
   "cell_type": "code",
   "execution_count": 187,
   "id": "3863f6fd",
   "metadata": {},
   "outputs": [],
   "source": [
    "from sklearn.ensemble import RandomForestClassifier"
   ]
  },
  {
   "cell_type": "code",
   "execution_count": 188,
   "id": "f70df141",
   "metadata": {},
   "outputs": [
    {
     "data": {
      "text/plain": [
       "RandomForestClassifier()"
      ]
     },
     "execution_count": 188,
     "metadata": {},
     "output_type": "execute_result"
    }
   ],
   "source": [
    "clf = RandomForestClassifier()\n",
    "clf.fit(X_train,y_train)"
   ]
  },
  {
   "cell_type": "code",
   "execution_count": 189,
   "id": "4c960395",
   "metadata": {},
   "outputs": [],
   "source": [
    "y_pred = clf.predict(X_test)"
   ]
  },
  {
   "cell_type": "code",
   "execution_count": 190,
   "id": "1a5b672f",
   "metadata": {},
   "outputs": [],
   "source": [
    "from sklearn.metrics import accuracy_score,confusion_matrix,ConfusionMatrixDisplay"
   ]
  },
  {
   "cell_type": "code",
   "execution_count": 191,
   "id": "65a92b2a",
   "metadata": {},
   "outputs": [
    {
     "name": "stdout",
     "output_type": "stream",
     "text": [
      "Accuracy of the classifier is 86.88524590163934\n"
     ]
    }
   ],
   "source": [
    "print(f'Accuracy of the classifier is {accuracy_score(y_test,y_pred)*100}')"
   ]
  },
  {
   "cell_type": "code",
   "execution_count": 195,
   "id": "140cffc9",
   "metadata": {},
   "outputs": [
    {
     "data": {
      "text/plain": [
       "array([[18,  5],\n",
       "       [ 3, 35]], dtype=int64)"
      ]
     },
     "execution_count": 195,
     "metadata": {},
     "output_type": "execute_result"
    }
   ],
   "source": [
    "cm=confusion_matrix(y_test,y_pred)\n",
    "cm"
   ]
  },
  {
   "cell_type": "code",
   "execution_count": 194,
   "id": "de5be5e2",
   "metadata": {},
   "outputs": [
    {
     "data": {
      "text/plain": [
       "<sklearn.metrics._plot.confusion_matrix.ConfusionMatrixDisplay at 0x1fd88d8ed00>"
      ]
     },
     "execution_count": 194,
     "metadata": {},
     "output_type": "execute_result"
    },
    {
     "data": {
      "image/png": "[encoded data removed]",
      "text/plain": [
       "<Figure size 640x480 with 2 Axes>"
      ]
     },
     "metadata": {},
     "output_type": "display_data"
    }
   ],
   "source": [
    "ConfusionMatrixDisplay(cm,display_labels=['Benign','Malignant']).plot()"
   ]
  },
  {
   "cell_type": "code",
   "execution_count": 196,
   "id": "7495a86c",
   "metadata": {},
   "outputs": [
    {
     "data": {
      "text/plain": [
       "(array([0.85714286, 0.875     ]),\n",
       " array([0.7826087 , 0.92105263]),\n",
       " array([0.81818182, 0.8974359 ]),\n",
       " array([23, 38], dtype=int64))"
      ]
     },
     "execution_count": 196,
     "metadata": {},
     "output_type": "execute_result"
    }
   ],
   "source": [
    "from sklearn.metrics import precision_recall_fscore_support\n",
    "precision_recall_fscore_support(y_test,y_pred)"
   ]
  },
  {
   "cell_type": "code",
   "execution_count": 197,
   "id": "cd44aad5",
   "metadata": {},
   "outputs": [],
   "source": [
    "from sklearn.model_selection import train_test_split\n",
    "X_train,X_test,y_train,y_test = train_test_split(X_scaled,Y, test_size=0.2,shuffle =True)"
   ]
  },
  {
   "cell_type": "code",
   "execution_count": 202,
   "id": "8f1efdb0",
   "metadata": {},
   "outputs": [],
   "source": [
    "from sklearn.naive_bayes import GaussianNB"
   ]
  },
  {
   "cell_type": "code",
   "execution_count": 203,
   "id": "33cdd95e",
   "metadata": {},
   "outputs": [
    {
     "data": {
      "text/plain": [
       "GaussianNB()"
      ]
     },
     "execution_count": 203,
     "metadata": {},
     "output_type": "execute_result"
    }
   ],
   "source": [
    "clf = GaussianNB()\n",
    "clf.fit(X_train,y_train)"
   ]
  },
  {
   "cell_type": "code",
   "execution_count": 205,
   "id": "1d495e5f",
   "metadata": {},
   "outputs": [],
   "source": [
    "y_pred = clf.predict(X_test)"
   ]
  },
  {
   "cell_type": "code",
   "execution_count": 206,
   "id": "64b24b55",
   "metadata": {},
   "outputs": [
    {
     "name": "stdout",
     "output_type": "stream",
     "text": [
      "Accuracy of the classifier is 81.9672131147541\n"
     ]
    }
   ],
   "source": [
    "print(f'Accuracy of the classifier is {accuracy_score(y_test,y_pred)*100}')"
   ]
  },
  {
   "cell_type": "code",
   "execution_count": null,
   "id": "6c392e3f",
   "metadata": {},
   "outputs": [],
   "source": []
  }
 ],
 "metadata": {
  "kernelspec": {
   "display_name": "Python 3 (ipykernel)",
   "language": "python",
   "name": "python3"
  },
  "language_info": {
   "codemirror_mode": {
    "name": "ipython",
    "version": 3
   },
   "file_extension": ".py",
   "mimetype": "text/x-python",
   "name": "python",
   "nbconvert_exporter": "python",
   "pygments_lexer": "ipython3",
   "version": "3.9.13"
  }
 },
 "nbformat": 4,
 "nbformat_minor": 5
}
